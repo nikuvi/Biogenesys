{
 "cells": [
  {
   "cell_type": "markdown",
   "metadata": {},
   "source": [
    "AVANCE 1"
   ]
  },
  {
   "cell_type": "markdown",
   "metadata": {},
   "source": [
    "1) Hago IMPORT de las bibliotecas numpy & pandas"
   ]
  },
  {
   "cell_type": "code",
   "execution_count": null,
   "metadata": {},
   "outputs": [],
   "source": [
    "import numpy as np\n",
    "import pandas as pd"
   ]
  },
  {
   "cell_type": "markdown",
   "metadata": {},
   "source": [
    "2) Creo una variable para el archivo csv "
   ]
  },
  {
   "cell_type": "code",
   "execution_count": null,
   "metadata": {},
   "outputs": [],
   "source": [
    "archivo_data_latinoamerica = 'data_latinoamerica.csv'"
   ]
  },
  {
   "cell_type": "markdown",
   "metadata": {},
   "source": [
    "3) Genero otra variable DateFrame donde leo la variable antes creada que tiene el archivo."
   ]
  },
  {
   "cell_type": "code",
   "execution_count": null,
   "metadata": {},
   "outputs": [],
   "source": [
    "df_data_latinoamerica = pd.read_csv(archivo_data_latinoamerica, parse_dates=['date'])"
   ]
  },
  {
   "cell_type": "markdown",
   "metadata": {},
   "source": [
    "4) Compruebo la cantidad de registros y columnas usando .info() | .isnull().sum()"
   ]
  },
  {
   "cell_type": "code",
   "execution_count": null,
   "metadata": {},
   "outputs": [],
   "source": [
    "df_data_latinoamerica.info()\n",
    "df_data_latinoamerica.isnull().sum()"
   ]
  },
  {
   "cell_type": "markdown",
   "metadata": {},
   "source": [
    "5) Selecciono los paises a los cuales se expandiran, que son: Colombia, Argentina, Chile, Mexico, Peru y Brazil."
   ]
  },
  {
   "cell_type": "code",
   "execution_count": null,
   "metadata": {},
   "outputs": [],
   "source": [
    "paises_filtrados = ['Colombia','Argentina','Chile','Mexico','Peru','Brazil']\n",
    "df_data_latinoamerica_expansion = df_data_latinoamerica[df_data_latinoamerica['country_name'].isin(paises_filtrados)]"
   ]
  },
  {
   "cell_type": "markdown",
   "metadata": {},
   "source": [
    "Filtro datos a partir de location_key"
   ]
  },
  {
   "cell_type": "code",
   "execution_count": null,
   "metadata": {},
   "outputs": [],
   "source": [
    "df_data_latinoamerica_expansion_clean = df_data_latinoamerica_expansion[df_data_latinoamerica_expansion['location_key'].isin(['AR','CL','CO','MX','PE','BR'])]"
   ]
  },
  {
   "cell_type": "code",
   "execution_count": null,
   "metadata": {},
   "outputs": [],
   "source": [
    "df_data_latinoamerica_expansion_clean.info()"
   ]
  },
  {
   "cell_type": "code",
   "execution_count": null,
   "metadata": {},
   "outputs": [],
   "source": [
    "df_data_latinoamerica_expansion_clean.sample(20)"
   ]
  },
  {
   "cell_type": "code",
   "execution_count": null,
   "metadata": {},
   "outputs": [],
   "source": [
    "df_data_latinoamerica_expansion_clean.isnull().sum()"
   ]
  },
  {
   "cell_type": "markdown",
   "metadata": {},
   "source": [
    "Reemplazo nulos con la media de cada columna correspondiente y elimino la columna 'country_code' ya que tiene los mismos valores que 'location_key'"
   ]
  },
  {
   "cell_type": "code",
   "execution_count": null,
   "metadata": {},
   "outputs": [],
   "source": [
    "df_data_filled = df_data_latinoamerica_expansion_clean.apply(lambda col: col.fillna(0).fillna(col.shift(1) + 1) if col.dtype in ['int64', 'float64'] else col, axis=0)\n",
    "df_data_filled = df_data_filled.drop(columns=['country_code'])"
   ]
  },
  {
   "cell_type": "code",
   "execution_count": null,
   "metadata": {},
   "outputs": [],
   "source": [
    "df_data_filled.sample(15)"
   ]
  },
  {
   "cell_type": "code",
   "execution_count": null,
   "metadata": {},
   "outputs": [],
   "source": [
    "df_data_filled.isnull().sum()"
   ]
  },
  {
   "cell_type": "markdown",
   "metadata": {},
   "source": [
    "6) Filtrar datos a partir del 2021-01-01"
   ]
  },
  {
   "cell_type": "code",
   "execution_count": null,
   "metadata": {},
   "outputs": [],
   "source": [
    "df_expansion = df_data_filled[(df_data_filled['date'] >= '2021-01-01')]"
   ]
  },
  {
   "cell_type": "code",
   "execution_count": null,
   "metadata": {},
   "outputs": [],
   "source": [
    "df_expansion.info() # Con los filtros consegui reducir el numero de entries a 3750 en 49 columnas."
   ]
  },
  {
   "cell_type": "code",
   "execution_count": null,
   "metadata": {},
   "outputs": [],
   "source": [
    "df_expansion.isnull().sum()"
   ]
  },
  {
   "cell_type": "markdown",
   "metadata": {},
   "source": [
    "8) Crear un archivo llamado 'DatosFinalesFiltrado.csv' para trabajar sobre este archivo."
   ]
  },
  {
   "cell_type": "code",
   "execution_count": null,
   "metadata": {},
   "outputs": [],
   "source": [
    "df_expansion.to_csv('DatosFinalesFiltrado.csv', index=False)"
   ]
  },
  {
   "cell_type": "markdown",
   "metadata": {},
   "source": [
    "========================================================================================================================================"
   ]
  },
  {
   "cell_type": "code",
   "execution_count": null,
   "metadata": {},
   "outputs": [],
   "source": [
    "import pandas as pd\n",
    "import numpy as np"
   ]
  },
  {
   "cell_type": "code",
   "execution_count": null,
   "metadata": {},
   "outputs": [],
   "source": [
    "datos_finales = 'DatosFinalesFiltrado.csv'\n",
    "df_datos = pd.read_csv(datos_finales)"
   ]
  },
  {
   "cell_type": "code",
   "execution_count": null,
   "metadata": {},
   "outputs": [],
   "source": [
    "df_datos['date'] = pd.to_datetime(df_datos['date']) #Paso la columna date a type datetime."
   ]
  },
  {
   "cell_type": "code",
   "execution_count": null,
   "metadata": {},
   "outputs": [],
   "source": [
    "df_datos.info() #3750 entries, 49 columns, 1 datetime, 46 float, 2 object."
   ]
  },
  {
   "cell_type": "code",
   "execution_count": null,
   "metadata": {},
   "outputs": [],
   "source": [
    "df_datos.sample(3)"
   ]
  },
  {
   "cell_type": "markdown",
   "metadata": {},
   "source": [
    "9) Aplica bucles for y/o while para el cálculo de estadísticas descriptivas y otras métricas importantes que ofrece pandas por default. Luego responde:\n",
    "\n",
    "¿Qué implican estas métricas y cómo pueden ayudar en el análisis de datos?\n",
    "\n",
    "¿Se muestran todas las estadísticas en todas las columnas durante el análisis?\n",
    "\n",
    "¿Cuál es la razón de la respuesta anterior y cómo podría afectar la interpretación de los resultados obtenidos?"
   ]
  },
  {
   "cell_type": "code",
   "execution_count": null,
   "metadata": {},
   "outputs": [],
   "source": [
    "# funcion para mostrar el pais con mas tasa de mortalidad en mujeres y hombres, mostrar pais con mas muertes en general\n",
    "def mortalidad(df, pais, mujeres, hombres, muertes_totales):\n",
    "        x_mujeres = df[mujeres].idxmax()\n",
    "        x_hombres = df[hombres].idxmax()\n",
    "        x_total = df[muertes_totales].idxmax()\n",
    "\n",
    "        tasa_mujeres = df.loc[x_mujeres, pais]\n",
    "        tasa_hombres = df.loc[x_hombres, pais]\n",
    "        tasa_total = df.loc[x_total, pais]\n",
    "\n",
    "        return {'Pais con mayor tasa de mortalidad en mujeres:':tasa_mujeres,\n",
    "                'Pais con mayor tasa de mortalidad en hombres:':tasa_hombres,\n",
    "                'Pais con mayor tasa de mortalidad en general:':tasa_total\n",
    "        }\n"
   ]
  },
  {
   "cell_type": "code",
   "execution_count": null,
   "metadata": {},
   "outputs": [],
   "source": [
    "resultado = mortalidad(df_datos, 'country_name', 'adult_female_mortality_rate', 'adult_male_mortality_rate', 'cumulative_deceased')\n",
    "print(resultado)"
   ]
  },
  {
   "cell_type": "code",
   "execution_count": null,
   "metadata": {},
   "outputs": [],
   "source": [
    "# mostrar pais con mas casos acumulados y el que menos casos tiene\n",
    "def casos(df, pais, casos):\n",
    "    x_casos_max = df[casos].idxmax()\n",
    "    x_casos_min = df[casos].idxmin()\n",
    "    \n",
    "    mas_casos = df.loc[x_casos_max, pais]\n",
    "    menos_casos = df.loc[x_casos_min, pais]\n",
    "    \n",
    "    return {'Pais con mas casos acumulados:': mas_casos,\n",
    "            'Pais con menos casos acumulados:': menos_casos\n",
    "            }"
   ]
  },
  {
   "cell_type": "code",
   "execution_count": null,
   "metadata": {},
   "outputs": [],
   "source": [
    "resultado2 = casos(df_datos, 'country_name', 'cumulative_confirmed')\n",
    "print(resultado2)"
   ]
  },
  {
   "cell_type": "markdown",
   "metadata": {},
   "source": [
    "10) Crea una función que permita obtener la mediana, varianza y el rango. Te dejamos algunas preguntas para analizar esas medidas:\n",
    "\n",
    "¿Qué representa la mediana?\n",
    "\n",
    "¿Cómo varía la dispersión de los datos en el conjunto de datos analizado, en términos de la varianza y el rango? \n",
    "\n",
    "¿Qué nos puede indicar esto sobre la consistencia o la variabilidad de los datos en relación con la mediana?"
   ]
  },
  {
   "cell_type": "code",
   "execution_count": null,
   "metadata": {},
   "outputs": [],
   "source": [
    "def medidas(df, columna):\n",
    "    mediana = df[columna].median()\n",
    "    varianza = df[columna].var()\n",
    "    rango = df[columna].max() - df[columna].min()\n",
    "    return {'Mediana': mediana, 'Varianza': varianza, 'Rango': rango}"
   ]
  },
  {
   "cell_type": "code",
   "execution_count": null,
   "metadata": {},
   "outputs": [],
   "source": [
    "while True:\n",
    "    try:\n",
    "        opcion = int(input('Que columna desea calcular:\\n1-Casos nuevos confirmados\\n2-Muertes nuevas confirmadas\\n3-Dosis dadas'))\n",
    "        match opcion:\n",
    "            case 1:\n",
    "                print(f'Medidas de casos confirmados:\\n{medidas(df_datos,'new_confirmed')}')\n",
    "            case 2:\n",
    "                print(f'Medidas de muertes confirmadas:\\n{medidas(df_datos,'new_deceased')}')\n",
    "            case 3:\n",
    "                print(f'Medidas de vacunas administradas:\\n{medidas(df_datos, 'cumulative_vaccine_doses_administered' )}')\n",
    "            case 4:\n",
    "                print('Cerrando...')\n",
    "                break\n",
    "            case _:\n",
    "                print('Ingrese un numero del 1 al 4')\n",
    "                continue\n",
    "    except ValueError:\n",
    "        print('Ingrese un numero valido.')\n",
    "        continue"
   ]
  },
  {
   "cell_type": "markdown",
   "metadata": {},
   "source": [
    "=========================================================================================================================================="
   ]
  },
  {
   "cell_type": "markdown",
   "metadata": {},
   "source": [
    "AVANCE 2"
   ]
  },
  {
   "cell_type": "code",
   "execution_count": null,
   "metadata": {},
   "outputs": [],
   "source": [
    "import seaborn as sns\n",
    "import pandas as pd\n",
    "import matplotlib.pyplot as plt\n",
    "import numpy as np"
   ]
  },
  {
   "cell_type": "code",
   "execution_count": null,
   "metadata": {},
   "outputs": [],
   "source": [
    "datos_finales = 'DatosFinalesFiltrado.csv'\n",
    "df_datos = pd.read_csv(datos_finales)"
   ]
  },
  {
   "cell_type": "code",
   "execution_count": null,
   "metadata": {},
   "outputs": [],
   "source": [
    "df_datos['date'] = pd.to_datetime(df_datos['date'])"
   ]
  },
  {
   "cell_type": "code",
   "execution_count": null,
   "metadata": {},
   "outputs": [],
   "source": [
    "df_datos.info()"
   ]
  },
  {
   "cell_type": "code",
   "execution_count": null,
   "metadata": {},
   "outputs": [],
   "source": [
    "df_datos.sample(5)"
   ]
  },
  {
   "cell_type": "code",
   "execution_count": null,
   "metadata": {},
   "outputs": [],
   "source": [
    "df_datos.columns"
   ]
  },
  {
   "cell_type": "code",
   "execution_count": null,
   "metadata": {},
   "outputs": [],
   "source": [
    "for i in df_datos.columns:\n",
    "    print(i)\n",
    "    print(df_datos[i].describe())\n",
    "    print('---------------------------------')"
   ]
  },
  {
   "cell_type": "code",
   "execution_count": null,
   "metadata": {},
   "outputs": [],
   "source": [
    "# Histogramas gráficos de densidad y gráficos de densidad para entender la distribución de la incidencia de COVID-19 y las tasas de vacunación.\n",
    "plt.figure(figsize=(10,5))\n",
    "sns.histplot(\n",
    "    data=df_datos,\n",
    "    x='cumulative_vaccine_doses_administered',\n",
    "    kde=True\n",
    ")\n",
    "plt.title('Distribucion de dosis administradas.')\n",
    "plt.xlabel('Casos confirmados')\n",
    "plt.ylabel('Frecuencia')\n",
    "plt.show()"
   ]
  },
  {
   "cell_type": "code",
   "execution_count": null,
   "metadata": {},
   "outputs": [],
   "source": [
    "# Histograma para casos confirmados de COVID-19\n",
    "plt.figure(figsize=(10,5))\n",
    "sns.histplot(\n",
    "    data=df_datos,\n",
    "    x='cumulative_confirmed',\n",
    "    kde=True\n",
    "    )\n",
    "plt.title('Distribucion de casos confirmados de COVID-19')\n",
    "plt.xlabel('Casos confirmados')\n",
    "plt.ylabel('Frecuencia')\n",
    "plt.show()"
   ]
  },
  {
   "cell_type": "code",
   "execution_count": null,
   "metadata": {},
   "outputs": [],
   "source": [
    "df_datos.columns"
   ]
  },
  {
   "cell_type": "code",
   "execution_count": null,
   "metadata": {},
   "outputs": [],
   "source": [
    "df_datos.sample(5)"
   ]
  },
  {
   "cell_type": "code",
   "execution_count": null,
   "metadata": {},
   "outputs": [],
   "source": [
    "df_datos['menores'] = df_datos[['population_age_00_09','population_age_10_19']].sum(axis=1)\n",
    "\n",
    "fig, ax = plt.subplots(figsize=(15, 5))\n",
    "sns.barplot(\n",
    "    x='country_name',\n",
    "    y='menores',\n",
    "    data=df_datos,\n",
    "    hue='country_name'\n",
    ")\n",
    "plt.title('Casos totales de menores confirmados por pais')\n",
    "plt.ylabel('Casos')\n",
    "plt.xlabel('Pais')\n",
    "plt.show()"
   ]
  },
  {
   "cell_type": "code",
   "execution_count": null,
   "metadata": {},
   "outputs": [],
   "source": [
    "df_datos['mayores'] = df_datos[\n",
    "    ['population_age_20_29','population_age_30_39','population_age_40_49','population_age_50_59',\n",
    "    'population_age_60_69','population_age_70_79','population_age_80_and_older']].sum(axis=1)\n",
    "\n",
    "fig, ax = plt.subplots(figsize=(15, 5))\n",
    "sns.barplot(\n",
    "    x='country_name',\n",
    "    y='mayores',\n",
    "    data=df_datos,\n",
    "    hue='country_name'\n",
    ")\n",
    "plt.title('Casos totales de menores confirmados por pais')\n",
    "plt.ylabel('Casos')\n",
    "plt.xlabel('Pais')\n",
    "plt.show()"
   ]
  },
  {
   "cell_type": "code",
   "execution_count": null,
   "metadata": {},
   "outputs": [],
   "source": [
    "# Gráficos de barras para comparar diferentes regiones.\n",
    "for i in df_datos:\n",
    "    if i not in ['location_key', 'date', 'country_code', 'country_name', 'latitude', 'longitude', 'cumulative_confirmed', 'cumulative_deceased', 'cumulative_recovered',\n",
    "                'cumulative_vaccine_doses_administered', 'new_recovered']:\n",
    "        fig, ax = plt.subplots(figsize=(5, 3))\n",
    "        sns.barplot(\n",
    "            x='country_name',\n",
    "            y=i,\n",
    "            data=df_datos,\n",
    "            ax=ax,\n",
    "            hue='country_name'\n",
    "        )\n",
    "        plt.title(f'Columna: {i} \\nPor pais en latinoamerica.')\n",
    "        plt.xlabel('Pais')\n",
    "        plt.show()"
   ]
  },
  {
   "cell_type": "code",
   "execution_count": null,
   "metadata": {},
   "outputs": [],
   "source": [
    "# Diagrama de dispersión de la temperatura media contra los casos confirmados.\n",
    "fig, ax = plt.subplots(figsize=(10,6))\n",
    "sns.scatterplot(\n",
    "    x='average_temperature_celsius',\n",
    "    y='cumulative_confirmed',\n",
    "    data=df_datos,\n",
    "    hue='country_name'\n",
    ")\n",
    "plt.xlabel('Temperaturas')\n",
    "plt.ylabel('Casos Confirmadas')\n",
    "plt.title('Promedio de las temperaturas vs casos confirmados.')\n",
    "\n",
    "plt.show()"
   ]
  },
  {
   "cell_type": "code",
   "execution_count": null,
   "metadata": {},
   "outputs": [],
   "source": [
    "# Diagrama de dispersión de la temperatura media contra las muertes confirmadas.\n",
    "fig, ax = plt.subplots(figsize=(10,6))\n",
    "sns.scatterplot(\n",
    "    x='average_temperature_celsius',\n",
    "    y='cumulative_deceased',\n",
    "    data=df_datos,\n",
    "    hue='country_name'\n",
    ")\n",
    "plt.xlabel('Temperaturas')\n",
    "plt.ylabel('Muertes Confirmadas')\n",
    "plt.title('Promedio de las temperaturas vs muertes confirmadas.')\n",
    "\n",
    "plt.show()"
   ]
  },
  {
   "cell_type": "code",
   "execution_count": null,
   "metadata": {},
   "outputs": [],
   "source": [
    "# Matriz de correlación, trata de crear una submascara para solo tomar una parte del gráfico y filtrar por los valores mayores a 0.5.\n",
    "numeric_columns = df_datos.select_dtypes(include=['float64', 'int64']).columns\n",
    "correlacion_matrix = df_datos[numeric_columns].corr() # Creo la matriz de correlacion \n",
    "\n",
    "mask = np.triu(np.ones_like(correlacion_matrix, dtype=bool)) # Creo una mascara\n",
    "\n",
    "correlacion_matrix = correlacion_matrix[abs(correlacion_matrix) > abs(0.5)] # Muestro valores mayores a 0.5\n",
    "\n",
    "plt.figure(figsize=(25, 10))\n",
    "heatmap = sns.heatmap(\n",
    "    correlacion_matrix,\n",
    "    mask=mask,\n",
    "    annot=True,\n",
    "    cmap='coolwarm',\n",
    "    fmt='.2f'\n",
    "    )\n",
    "plt.title('Matriz de correlacion de las variables numericas.', fontsize=20)\n",
    "plt.show()"
   ]
  },
  {
   "cell_type": "code",
   "execution_count": null,
   "metadata": {},
   "outputs": [],
   "source": [
    "df_datos.sample(3)"
   ]
  },
  {
   "cell_type": "code",
   "execution_count": null,
   "metadata": {},
   "outputs": [],
   "source": [
    "df_datos.columns"
   ]
  },
  {
   "cell_type": "code",
   "execution_count": null,
   "metadata": {},
   "outputs": [],
   "source": [
    "# Evolución de dosis administradas por mes de cada país.\n",
    "\n",
    "# Creo una nueva columna y extraigo el mes de cada fecha.\n",
    "df_datos['mes'] = df_datos['date'].dt.to_period('M')\n",
    "df_datos = df_datos.sort_values(['country_name', 'date'])\n",
    "\n",
    "# Creo una columna llamada 'dosis_mes' donde agrupo por pais calculando cada fila de la columna de dosis adm con .diff() y rellenando las filas que hayan podido quedar nulas con .fillna(0)\n",
    "df_datos['dosis_mes'] = df_datos.groupby('country_name')['cumulative_vaccine_doses_administered'].diff().fillna(0)\n",
    "# Limito la columna para que no hayan valores menores a 0 que rompa el grafico.\n",
    "df_datos['dosis_mes'] = df_datos['dosis_mes'].clip(lower=0)\n",
    "# Agrupo en una nueva variable por mes y pais, y sumo la columna de 'dosis_mes' \n",
    "df_dosis_mes = df_datos.groupby(['mes', 'country_name'])['dosis_mes'].sum().reset_index()\n",
    "# Me aseguro que el tipo de la columna 'mes' sea str\n",
    "df_dosis_mes['mes'] = df_dosis_mes['mes'].astype(str) \n",
    "\n",
    "# Grafico\n",
    "plt.subplots(figsize=(12, 8))\n",
    "sns.barplot(\n",
    "    x='mes',\n",
    "    y='dosis_mes',\n",
    "    hue='country_name',\n",
    "    data=df_dosis_mes \n",
    ")\n",
    "plt.title('Evolucion de dosis administradas por mes en cada pais.')\n",
    "plt.xlabel('Mes')\n",
    "plt.ylabel('Dosis administradas')\n",
    "plt.xticks(rotation=45)\n",
    "plt.legend(title='Pais', bbox_to_anchor=(1.05, 1), loc='upper left')\n",
    "plt.show()"
   ]
  },
  {
   "cell_type": "code",
   "execution_count": null,
   "metadata": {},
   "outputs": [],
   "source": [
    "# Muertes por mes de cada país.\n",
    "\n",
    "# Creo una nueva columna y extraigo el mes de cada fecha.\n",
    "df_datos['mes'] = df_datos['date'].dt.to_period('M')\n",
    "df_datos = df_datos.sort_values(['country_name', 'date'])\n",
    "\n",
    "# Agrupo en una nueva variable por mes y pais, y sumo la columna de 'new_deceased' \n",
    "df_muertes_mes = df_datos.groupby(['mes', 'country_name'])['new_deceased'].sum().reset_index()\n",
    "# Sorteo los valores por mes.\n",
    "df_muertes_mes = df_muertes_mes.sort_values(by='mes')\n",
    "# Me aseguro que el tipo de la columna 'mes' sea str\n",
    "df_muertes_mes['mes'] = df_muertes_mes['mes'].astype(str)\n",
    "\n",
    "plt.subplots(figsize=(12, 8))\n",
    "# Creo el grafico de barras\n",
    "sns.barplot(\n",
    "    x='mes',\n",
    "    y='new_deceased',\n",
    "    hue='country_name',\n",
    "    data=df_muertes_mes\n",
    ")\n",
    "plt.title('Evolucion de muertes por mes en cada pais.')\n",
    "plt.xlabel('Mes')\n",
    "plt.ylabel('Muertes')\n",
    "plt.xticks(rotation=45)\n",
    "plt.legend(title='Pais', bbox_to_anchor=(1.05, 1), loc='upper left')\n",
    "plt.show()"
   ]
  },
  {
   "cell_type": "code",
   "execution_count": null,
   "metadata": {},
   "outputs": [],
   "source": [
    "# Casos confirmados por mes de cada país.\n",
    "\n",
    "# Creo una nueva columna y extraigo el mes de cada fecha.\n",
    "df_datos['mes'] = df_datos['date'].dt.to_period('M')\n",
    "# Agrupo en una nueva variable por mes y pais, y sumo la columna de 'new_confirmed' \n",
    "df_casos_mes = df_datos.groupby(['mes', 'country_name'])['new_confirmed'].sum().reset_index()\n",
    "# Me aseguro que el tipo de la columna 'mes' sea str\n",
    "df_casos_mes['mes'] = df_casos_mes['mes'].astype(str)\n",
    "# Sorteo los valores por mes.\n",
    "df_casos_mes = df_casos_mes.sort_values(by='mes')\n",
    "\n",
    "plt.subplots(figsize=(12, 8))\n",
    "# Creo el grafico de barras\n",
    "sns.barplot(\n",
    "    x='mes',\n",
    "    y='new_confirmed',\n",
    "    hue='country_name',\n",
    "    data=df_casos_mes # Uso la variable que cree antes\n",
    ")\n",
    "plt.title('Evolucion de casos confirmados por mes en cada pais.')\n",
    "plt.xlabel('Mes')\n",
    "plt.ylabel('Casos')\n",
    "plt.xticks(rotation=45)\n",
    "plt.legend(title='Pais', bbox_to_anchor=(1.05, 1), loc='upper left')\n",
    "plt.show()"
   ]
  },
  {
   "cell_type": "code",
   "execution_count": null,
   "metadata": {},
   "outputs": [],
   "source": [
    "# Recuperaciones de casos por mes de cada país.\n",
    "\n",
    "\n",
    "# Creo una nueva columna y extraigo el mes de cada fecha.\n",
    "df_datos['mes'] = df_datos['date'].dt.to_period('M')\n",
    "# Agrupo en una nueva variable por mes y pais, y sumo la columna de 'new_recovered' \n",
    "df_recuperados_mes = df_datos.groupby(['mes', 'country_name'])['new_recovered'].sum().reset_index()\n",
    "# Sorteo los valores por mes.\n",
    "df_recuperados_mes = df_recuperados_mes.sort_values(by='mes')\n",
    "# Me aseguro que el tipo de la columna 'mes' sea str\n",
    "df_recuperados_mes['mes'] = df_recuperados_mes['mes'].astype(str)\n",
    "\n",
    "plt.subplots(figsize=(12, 8)) # Creo la figura\n",
    "# Creo el grafico de barras\n",
    "sns.barplot(\n",
    "    x='mes',\n",
    "    y='new_recovered',\n",
    "    hue='country_name',\n",
    "    data=df_recuperados_mes # Uso la variable que cree antes\n",
    ")\n",
    "plt.title('Evolucion de casos recuperados por mes en cada pais.')\n",
    "plt.xlabel('Mes')\n",
    "plt.ylabel('Recuperaciones')\n",
    "plt.xticks(rotation=45)\n",
    "plt.legend(title='Pais', bbox_to_anchor=(1.05, 1), loc='upper left')\n",
    "plt.show()"
   ]
  },
  {
   "cell_type": "code",
   "execution_count": null,
   "metadata": {},
   "outputs": [],
   "source": [
    "# Comparación del Número de Casos Nuevos entre Países.\n",
    "\n",
    "plt.subplots(figsize=(12, 8))\n",
    "# Creo el grafico de barras\n",
    "sns.barplot(\n",
    "    x='mes',\n",
    "    y='new_confirmed',\n",
    "    hue='country_name',\n",
    "    data=df_datos,\n",
    ")\n",
    "plt.title('Evolucion de nuevos casos en cada pais.')\n",
    "plt.xlabel('Mes')\n",
    "plt.ylabel('Nuevos casos')\n",
    "plt.xticks(rotation=45)\n",
    "plt.legend(title='Pais', bbox_to_anchor=(1.05, 1), loc='upper left')\n",
    "plt.show()"
   ]
  },
  {
   "cell_type": "code",
   "execution_count": null,
   "metadata": {},
   "outputs": [],
   "source": [
    "# Boxplot de temperatura media de cada país.\n",
    "\n",
    "plt.subplots(figsize=(20,10))\n",
    "sns.boxplot(\n",
    "    data=df_datos,\n",
    "    x='mes',\n",
    "    y='average_temperature_celsius',\n",
    "    hue='country_name'\n",
    ")\n",
    "plt.title('Temperatura media de cada pais por mes.')\n",
    "plt.xlabel('Mes')\n",
    "plt.ylabel('Temperatura')\n",
    "plt.xticks(rotation=45)\n",
    "plt.show()"
   ]
  },
  {
   "cell_type": "markdown",
   "metadata": {},
   "source": [
    "=========================================================================================================================================="
   ]
  },
  {
   "cell_type": "markdown",
   "metadata": {},
   "source": [
    "AVANCE 3"
   ]
  },
  {
   "cell_type": "code",
   "execution_count": null,
   "metadata": {},
   "outputs": [],
   "source": [
    "import pandas as pd\n",
    "import numpy as np\n",
    "import matplotlib.pyplot as plt\n",
    "import seaborn as sns\n",
    "import geopandas as gpd"
   ]
  },
  {
   "cell_type": "code",
   "execution_count": null,
   "metadata": {},
   "outputs": [],
   "source": [
    "# Codigo para ignorar warnings 'molestos'.\n",
    "import warnings\n",
    "warnings.filterwarnings('ignore')"
   ]
  },
  {
   "cell_type": "code",
   "execution_count": null,
   "metadata": {},
   "outputs": [],
   "source": [
    "# Codigo pandas para mostrar solo 1 decimal luego del punto.\n",
    "pd.options.display.float_format = '{:.1f}'.format"
   ]
  },
  {
   "cell_type": "code",
   "execution_count": null,
   "metadata": {},
   "outputs": [],
   "source": [
    "datos_finales = 'DatosFinalesFiltrado.csv'\n",
    "df_datos = pd.read_csv(datos_finales)\n",
    "df_datos['date'] = pd.to_datetime(df_datos['date'])"
   ]
  },
  {
   "cell_type": "code",
   "execution_count": null,
   "metadata": {},
   "outputs": [],
   "source": [
    "# Este codigo lo uso mas adelante en el grafico de Life Expectancy.\n",
    "path = 'ne_110m_admin_0_countries.zip'\n",
    "world = gpd.read_file(path)\n",
    "df_datos_merged = world.merge(df_datos, left_on='SOVEREIGNT', right_on='country_name')"
   ]
  },
  {
   "cell_type": "code",
   "execution_count": null,
   "metadata": {},
   "outputs": [],
   "source": [
    "# df_datos_indexdate = df_datos.set_index('date')\n",
    "# df_datos_indexdate.info()\n",
    "# df_datos_indexdate.head(4)"
   ]
  },
  {
   "cell_type": "code",
   "execution_count": null,
   "metadata": {},
   "outputs": [],
   "source": [
    "df_datos.info()"
   ]
  },
  {
   "cell_type": "code",
   "execution_count": null,
   "metadata": {},
   "outputs": [],
   "source": [
    "df_datos.describe()"
   ]
  },
  {
   "cell_type": "code",
   "execution_count": null,
   "metadata": {},
   "outputs": [],
   "source": [
    "df_datos.sample(4)"
   ]
  },
  {
   "cell_type": "code",
   "execution_count": null,
   "metadata": {},
   "outputs": [],
   "source": [
    "df_datos.isnull().sum()"
   ]
  },
  {
   "cell_type": "code",
   "execution_count": null,
   "metadata": {},
   "outputs": [],
   "source": [
    "df_datos.columns"
   ]
  },
  {
   "cell_type": "code",
   "execution_count": null,
   "metadata": {},
   "outputs": [],
   "source": [
    "# Casos confirmados y casos recuperados por year\n",
    "df_datos['Year'] = df_datos['date'].dt.year\n",
    "suma_anual = df_datos.groupby('Year')[['cumulative_confirmed','cumulative_recovered']].sum()\n",
    "suma_anual = suma_anual.reset_index('Year')\n",
    "suma_anual"
   ]
  },
  {
   "cell_type": "code",
   "execution_count": null,
   "metadata": {},
   "outputs": [],
   "source": [
    "# Relación entre la Cobertura de Vacunación y la Reducción de Casos\n",
    "df_datos['mes'] = df_datos['date'].dt.to_period('M')\n",
    "\n",
    "plt.figure(figsize=(15,10))\n",
    "sns.scatterplot(\n",
    "    data=df_datos,\n",
    "    x='cumulative_vaccine_doses_administered',\n",
    "    y='new_recovered',\n",
    "    hue='mes',\n",
    ")\n",
    "plt.title('Efectividad de las dosis administradas y recuperados.')\n",
    "plt.xlabel('Dosis Administradas')\n",
    "plt.ylabel('Nuevos Recuperados')\n",
    "plt.legend(title='Fecha', bbox_to_anchor=(1.05, 1), loc='upper left')\n",
    "plt.show()"
   ]
  },
  {
   "cell_type": "code",
   "execution_count": null,
   "metadata": {},
   "outputs": [],
   "source": [
    "df_datos['mes'] = df_datos['date'].dt.to_period('M')\n",
    "\n",
    "# Relación entre la Cobertura de Vacunación y muertes\n",
    "plt.figure(figsize=(15,10))\n",
    "sns.scatterplot(\n",
    "    data=df_datos,\n",
    "    x='cumulative_vaccine_doses_administered',\n",
    "    y='new_deceased',\n",
    "    hue='mes',\n",
    "    #hue='country_name',\n",
    ")\n",
    "plt.title('Dosis administradas y fallecidos.')\n",
    "plt.xlabel('Dosis Administradas')\n",
    "plt.ylabel('Muertes')\n",
    "plt.legend(title='Fecha', bbox_to_anchor=(1.05, 1), loc='upper left')\n",
    "plt.show()"
   ]
  },
  {
   "cell_type": "code",
   "execution_count": null,
   "metadata": {},
   "outputs": [],
   "source": [
    "# Nuevos casos y temperatura promedio\n",
    "plt.figure(figsize=(15,6))\n",
    "sns.scatterplot(\n",
    "    data=df_datos,\n",
    "    x='average_temperature_celsius',\n",
    "    y='new_confirmed',\n",
    "    hue='mes',\n",
    "    style='mes'\n",
    ")\n",
    "plt.xlabel('Temperatura')\n",
    "plt.ylabel('Nuevos casos')\n",
    "plt.legend(title='Fecha', bbox_to_anchor=(1.01, 1), loc='upper left')\n",
    "plt.show()"
   ]
  },
  {
   "cell_type": "code",
   "execution_count": null,
   "metadata": {},
   "outputs": [],
   "source": [
    "# Variación Mensual de Casos y Muertes\n",
    "df_datos['mes'] = df_datos['mes'].astype(str)\n",
    "\n",
    "#Calculo la variacion en nuevas columnas\n",
    "df_datos['var_casos'] = df_datos['new_confirmed'].diff()\n",
    "df_datos['var_muertes'] = df_datos['cumulative_deceased'].diff()\n",
    "\n",
    "plt.figure(figsize=(12, 6))\n",
    "sns.lineplot(\n",
    "    data=df_datos,\n",
    "    x=\"mes\", \n",
    "    y=\"var_casos\", \n",
    "    marker=\"o\", \n",
    "    ci=None,\n",
    "    label=\"Variación Casos\", \n",
    "    color=\"blue\"\n",
    "    )\n",
    "sns.lineplot(\n",
    "    data=df_datos,\n",
    "    x=\"mes\", \n",
    "    y=\"var_muertes\", \n",
    "    marker=\"o\", \n",
    "    ci=None,\n",
    "    label=\"Variación Muertes\", \n",
    "    color=\"red\"\n",
    "    )\n",
    "\n",
    "plt.xlabel(\"Mes y Año\")\n",
    "plt.ylabel(\"Variación\")\n",
    "plt.title(\"Variación Mensual de Casos y Muertes\")\n",
    "plt.legend()\n",
    "plt.xticks(rotation=45) \n",
    "plt.tight_layout()\n",
    "plt.show()"
   ]
  },
  {
   "cell_type": "code",
   "execution_count": null,
   "metadata": {},
   "outputs": [],
   "source": [
    "# EXTRA CREDIT\n",
    "import geopandas as gpd\n",
    "\n",
    "path = 'ne_110m_admin_0_countries.zip'\n",
    "world = gpd.read_file(path)\n",
    "df_datos_merged = world.merge(df_datos, left_on='SOVEREIGNT', right_on='country_name')\n",
    "df_datos_merged.plot(\n",
    "    column='life_expectancy',\n",
    "    figsize=(15,10),\n",
    "    legend=True,\n",
    "    edgecolor='black',\n",
    "    \n",
    "    legend_kwds={\n",
    "        'label': 'Expectativa',\n",
    "        'orientation': 'horizontal'\n",
    "    })\n",
    "plt.title('Expectativa de vida por Pais')\n",
    "plt.axis('off')\n",
    "plt.show()"
   ]
  },
  {
   "cell_type": "markdown",
   "metadata": {},
   "source": [
    "=================================================================================================================================="
   ]
  },
  {
   "cell_type": "markdown",
   "metadata": {},
   "source": [
    "AVANCE 4"
   ]
  },
  {
   "cell_type": "code",
   "execution_count": null,
   "metadata": {},
   "outputs": [],
   "source": [
    "! pip install mysql-connector-python\n",
    "! pip install pymssql\n",
    "! pip install pyodbc"
   ]
  },
  {
   "cell_type": "code",
   "execution_count": null,
   "metadata": {},
   "outputs": [],
   "source": [
    "# Codigo para importar el df de 'DatosFinalesFiltrado.csv' en Power BI\n",
    "import pandas as pd\n",
    "datos_finales = 'D:/Data Analitycs/M4/VSC/Proyecto/DatosFinalesFiltrado.csv'\n",
    "dataset = pd.read_csv(datos_finales)\n",
    "\n",
    "print(dataset) "
   ]
  },
  {
   "cell_type": "code",
   "execution_count": null,
   "metadata": {},
   "outputs": [],
   "source": [
    "# Codigo que implemento al principio de cada script en Power Bi\n",
    "import pandas as pd\n",
    "import numpy as np \n",
    "import matplotlib.pyplot as plt\n",
    "import seaborn as sns\n",
    "\n",
    "df_datos = pd.read_csv(r'D:/Data Analitycs/M4/VSC/Proyecto/DatosFinalesFiltrado.csv')\n",
    "df_datos['date'] = pd.to_datetime(df_datos['date'])"
   ]
  }
 ],
 "metadata": {
  "kernelspec": {
   "display_name": "Python 3",
   "language": "python",
   "name": "python3"
  },
  "language_info": {
   "codemirror_mode": {
    "name": "ipython",
    "version": 3
   },
   "file_extension": ".py",
   "mimetype": "text/x-python",
   "name": "python",
   "nbconvert_exporter": "python",
   "pygments_lexer": "ipython3",
   "version": "3.13.2"
  }
 },
 "nbformat": 4,
 "nbformat_minor": 2
}
